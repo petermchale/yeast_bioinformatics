{
 "cells": [
  {
   "cell_type": "markdown",
   "metadata": {},
   "source": [
    "This Notebook lives at [Github](https://github.com/petermchale/yeast_bioinformatics). Follow [these instructions](http://jupyter.readthedocs.io/en/latest/install.html) to execute the Notebook using Python 3.x.  Otherwise, [view this Notebook](http://nbviewer.jupyter.org/github/petermchale/yeast_bioinformatics/blob/master/analysis.ipynb) in read-only mode using [Jupyter Notebook Viewer](http://nbviewer.jupyter.org/)."
   ]
  },
  {
   "cell_type": "code",
   "execution_count": 1,
   "metadata": {
    "collapsed": false
   },
   "outputs": [
    {
     "name": "stdout",
     "output_type": "stream",
     "text": [
      "Modules are now visible to the Notebook\n"
     ]
    }
   ],
   "source": [
    "import os\n",
    "repository_directory = os.getcwd() \n",
    "package_directory = repository_directory + '/source'\n",
    "import sys\n",
    "sys.path.append(package_directory)\n",
    "print('Modules are now visible to the Notebook')"
   ]
  },
  {
   "cell_type": "markdown",
   "metadata": {
    "collapsed": true
   },
   "source": [
    "# Transcription Factor-DNA binding in yeast\n",
    "\n",
    "Written by [Peter McHale](http://ccbs-76.bio.uci.edu/~petermchale/). \n",
    "\n",
    "The eukaryotic genome is adorned by molecules called transcription factors (TFs) that bind a small number of target promoters to regulate gene transcription. But do they also bind other genomic locations that do not directly influence transcription rates? To approach this question, we first need to quantify the strength with which TFs bind DNA. Denote by $E(\\vec{s})$ the binding energy of a TF to a sequence \n",
    "\n",
    "\\begin{equation} \n",
    "\\vec{s} = \\langle s_1, s_2, \\ldots, s_L\\rangle\n",
    "\\end{equation} \n",
    "\n",
    "of $L$ nucleotides $s_i \\in \\{A,C,G,T\\}$. With binding lengths of $L = 10-20$ nucleotides, the number of possible sequences is too large to measure individually. Fortunately, the contribution of each nucleotide to the binding energy of the parent sequence is approximately independent and additive: \n",
    "\n",
    "\\begin{equation} \n",
    "E(\\vec{s}) = \\sum_{i=1}^L \\epsilon_i(s_i),\n",
    "\\end{equation}\n",
    "\n",
    "reducing the impractical problem of determining the large number of values of $E(\\vec{s})$ to the practical problem of the determining the \n",
    " $L\\times 4$ energy matrix, $\\epsilon_i(s)$. This matrix can be determined for Gal4 using *in vitro* measurements of the equilibrium binding constants \n",
    " \n",
    "\\begin{equation} \n",
    "K(\\vec{s}) \\propto e^{-\\beta E(\\vec{s})} \n",
    "\\end{equation} \n",
    "\n",
    "for all sequences $\\vec{s}$ that differ in just one nucleotide from a given sequence, which I manually fetched from the literature [[Liang et al 1996](https://www.ncbi.nlm.nih.gov/pubmed/8668194)], and stored as a list of dictionaries: "
   ]
  },
  {
   "cell_type": "code",
   "execution_count": 2,
   "metadata": {
    "collapsed": true
   },
   "outputs": [],
   "source": [
    "from extract import createEnergyMatrix\n",
    "matrix = createEnergyMatrix('data/Gal4_affinity.in')"
   ]
  },
  {
   "cell_type": "markdown",
   "metadata": {},
   "source": [
    "We can get a feel for what these data look like with the aid of `pandas`:"
   ]
  },
  {
   "cell_type": "code",
   "execution_count": 3,
   "metadata": {
    "collapsed": false,
    "scrolled": false
   },
   "outputs": [
    {
     "data": {
      "text/html": [
       "<div>\n",
       "<table border=\"1\" class=\"dataframe\">\n",
       "  <thead>\n",
       "    <tr style=\"text-align: right;\">\n",
       "      <th></th>\n",
       "      <th>A</th>\n",
       "      <th>C</th>\n",
       "      <th>G</th>\n",
       "      <th>T</th>\n",
       "    </tr>\n",
       "  </thead>\n",
       "  <tbody>\n",
       "    <tr>\n",
       "      <th>0</th>\n",
       "      <td>2.426816</td>\n",
       "      <td>0.000000</td>\n",
       "      <td>3.132951</td>\n",
       "      <td>2.957252</td>\n",
       "    </tr>\n",
       "    <tr>\n",
       "      <th>1</th>\n",
       "      <td>3.800451</td>\n",
       "      <td>3.800451</td>\n",
       "      <td>0.000000</td>\n",
       "      <td>3.800451</td>\n",
       "    </tr>\n",
       "    <tr>\n",
       "      <th>2</th>\n",
       "      <td>3.800451</td>\n",
       "      <td>3.800451</td>\n",
       "      <td>0.000000</td>\n",
       "      <td>3.800451</td>\n",
       "    </tr>\n",
       "    <tr>\n",
       "      <th>3</th>\n",
       "      <td>0.000000</td>\n",
       "      <td>0.804719</td>\n",
       "      <td>0.601986</td>\n",
       "      <td>0.885978</td>\n",
       "    </tr>\n",
       "    <tr>\n",
       "      <th>4</th>\n",
       "      <td>0.143841</td>\n",
       "      <td>0.000000</td>\n",
       "      <td>0.693147</td>\n",
       "      <td>0.000000</td>\n",
       "    </tr>\n",
       "    <tr>\n",
       "      <th>5</th>\n",
       "      <td>0.693147</td>\n",
       "      <td>0.143841</td>\n",
       "      <td>0.693147</td>\n",
       "      <td>0.000000</td>\n",
       "    </tr>\n",
       "    <tr>\n",
       "      <th>6</th>\n",
       "      <td>0.000000</td>\n",
       "      <td>1.497866</td>\n",
       "      <td>1.103637</td>\n",
       "      <td>0.000000</td>\n",
       "    </tr>\n",
       "    <tr>\n",
       "      <th>7</th>\n",
       "      <td>0.554331</td>\n",
       "      <td>0.000000</td>\n",
       "      <td>1.609438</td>\n",
       "      <td>0.693147</td>\n",
       "    </tr>\n",
       "    <tr>\n",
       "      <th>8</th>\n",
       "      <td>0.000000</td>\n",
       "      <td>2.120264</td>\n",
       "      <td>2.120264</td>\n",
       "      <td>0.000000</td>\n",
       "    </tr>\n",
       "    <tr>\n",
       "      <th>9</th>\n",
       "      <td>0.693147</td>\n",
       "      <td>1.609438</td>\n",
       "      <td>0.000000</td>\n",
       "      <td>0.554331</td>\n",
       "    </tr>\n",
       "    <tr>\n",
       "      <th>10</th>\n",
       "      <td>0.000000</td>\n",
       "      <td>1.103637</td>\n",
       "      <td>1.497866</td>\n",
       "      <td>0.000000</td>\n",
       "    </tr>\n",
       "    <tr>\n",
       "      <th>11</th>\n",
       "      <td>0.000000</td>\n",
       "      <td>0.693147</td>\n",
       "      <td>0.143841</td>\n",
       "      <td>0.693147</td>\n",
       "    </tr>\n",
       "    <tr>\n",
       "      <th>12</th>\n",
       "      <td>0.000000</td>\n",
       "      <td>0.693147</td>\n",
       "      <td>0.000000</td>\n",
       "      <td>0.143841</td>\n",
       "    </tr>\n",
       "    <tr>\n",
       "      <th>13</th>\n",
       "      <td>0.885978</td>\n",
       "      <td>0.601986</td>\n",
       "      <td>0.804719</td>\n",
       "      <td>0.000000</td>\n",
       "    </tr>\n",
       "    <tr>\n",
       "      <th>14</th>\n",
       "      <td>3.800451</td>\n",
       "      <td>0.000000</td>\n",
       "      <td>3.800451</td>\n",
       "      <td>3.800451</td>\n",
       "    </tr>\n",
       "    <tr>\n",
       "      <th>15</th>\n",
       "      <td>3.800451</td>\n",
       "      <td>0.000000</td>\n",
       "      <td>3.800451</td>\n",
       "      <td>3.800451</td>\n",
       "    </tr>\n",
       "    <tr>\n",
       "      <th>16</th>\n",
       "      <td>2.957252</td>\n",
       "      <td>3.132951</td>\n",
       "      <td>0.000000</td>\n",
       "      <td>2.426816</td>\n",
       "    </tr>\n",
       "  </tbody>\n",
       "</table>\n",
       "</div>"
      ],
      "text/plain": [
       "           A         C         G         T\n",
       "0   2.426816  0.000000  3.132951  2.957252\n",
       "1   3.800451  3.800451  0.000000  3.800451\n",
       "2   3.800451  3.800451  0.000000  3.800451\n",
       "3   0.000000  0.804719  0.601986  0.885978\n",
       "4   0.143841  0.000000  0.693147  0.000000\n",
       "5   0.693147  0.143841  0.693147  0.000000\n",
       "6   0.000000  1.497866  1.103637  0.000000\n",
       "7   0.554331  0.000000  1.609438  0.693147\n",
       "8   0.000000  2.120264  2.120264  0.000000\n",
       "9   0.693147  1.609438  0.000000  0.554331\n",
       "10  0.000000  1.103637  1.497866  0.000000\n",
       "11  0.000000  0.693147  0.143841  0.693147\n",
       "12  0.000000  0.693147  0.000000  0.143841\n",
       "13  0.885978  0.601986  0.804719  0.000000\n",
       "14  3.800451  0.000000  3.800451  3.800451\n",
       "15  3.800451  0.000000  3.800451  3.800451\n",
       "16  2.957252  3.132951  0.000000  2.426816"
      ]
     },
     "execution_count": 3,
     "metadata": {},
     "output_type": "execute_result"
    }
   ],
   "source": [
    "import pandas as pd \n",
    "df = pd.DataFrame(matrix)\n",
    "df"
   ]
  },
  {
   "cell_type": "markdown",
   "metadata": {},
   "source": [
    "In the above data structure:\n",
    "* row labels are positions within a binding site\n",
    "* column labels are the identities of nucleotides at those positions\n",
    "* matrix elements are TF-DNA binding energies\n",
    "\n",
    "So, for example, a DNA sequence that binds optimally to Gal4 can be extracted by listing the nucleotides with the lowest energy at each position:\n",
    "\n"
   ]
  },
  {
   "cell_type": "code",
   "execution_count": 4,
   "metadata": {
    "collapsed": false
   },
   "outputs": [
    {
     "name": "stdout",
     "output_type": "stream",
     "text": [
      "0     C\n",
      "1     G\n",
      "2     G\n",
      "3     A\n",
      "4     C\n",
      "5     T\n",
      "6     A\n",
      "7     C\n",
      "8     A\n",
      "9     G\n",
      "10    A\n",
      "11    A\n",
      "12    A\n",
      "13    T\n",
      "14    C\n",
      "15    C\n",
      "16    G\n",
      "dtype: object\n"
     ]
    }
   ],
   "source": [
    "print(df.idxmin(axis=1))"
   ]
  },
  {
   "cell_type": "markdown",
   "metadata": {},
   "source": [
    "Next, I manually downloaded the DNA sequence of the third chromosome of the model organism, yeast, and read it into this notebook:"
   ]
  },
  {
   "cell_type": "code",
   "execution_count": 5,
   "metadata": {
    "collapsed": false
   },
   "outputs": [
    {
     "name": "stdout",
     "output_type": "stream",
     "text": [
      "Here is the header information of a fasta file:\n",
      "\n",
      ">ref|NC_001135| [org=Saccharomyces cerevisiae] [strain=S288C] [moltype=genomic] [chromosome=III]\n",
      "\n",
      "And here is the beginning of the DNA sequence of the chromosome:\n",
      "\n",
      "CCCACACACCACACCCACACCACACCCACACACCACACACACCACACCCACACACCCACACCACACCACACCCACACCACACCCACACACCCACACCCAC\n",
      "\n",
      "There are  316617 nucleotides in this chromosome\n"
     ]
    }
   ],
   "source": [
    "from extract import getFasta\n",
    "with open('data/chr03.fsa') as f:\n",
    "    [header, sequence] = getFasta(f)\n",
    "print('Here is the header information of a fasta file:\\n')\n",
    "print(header)\n",
    "print('\\nAnd here is the beginning of the DNA sequence of the chromosome:\\n')\n",
    "print(sequence[:100])\n",
    "print('\\nThere are ', len(sequence), 'nucleotides in this chromosome')"
   ]
  },
  {
   "cell_type": "markdown",
   "metadata": {},
   "source": [
    "With the energy matrix and chromosome sequence in hand, I next computed the energy with which Gal4 binds every possible sequence on the chromosome:"
   ]
  },
  {
   "cell_type": "code",
   "execution_count": 10,
   "metadata": {
    "collapsed": false
   },
   "outputs": [],
   "source": [
    "from auxFunctions import calcEnergyListWithMatrix\n",
    "energyList = calcEnergyListWithMatrix(sequence, matrix)"
   ]
  },
  {
   "cell_type": "markdown",
   "metadata": {},
   "source": [
    "Here is how those TF-DNA binding energies are distributed:"
   ]
  },
  {
   "cell_type": "code",
   "execution_count": 11,
   "metadata": {
    "collapsed": false,
    "scrolled": false
   },
   "outputs": [
    {
     "data": {
      "image/png": "[encoded data removed]",
      "text/plain": [
       "<matplotlib.figure.Figure at 0x11346a6d8>"
      ]
     },
     "metadata": {},
     "output_type": "display_data"
    }
   ],
   "source": [
    "import numpy as np \n",
    "from matplotlib import pyplot as plt\n",
    "from auxFunctions import binList\n",
    "%matplotlib inline\n",
    "\n",
    "fontsize = 16\n",
    "fontsize_tick = 14\n",
    "\n",
    "bL = binList(energyList, xMin=-5.0, xMax=50, binWidth=0.25)\n",
    "bindingEnergies = [t[0] for t in bL]\n",
    "numberSites = [t[1] for t in bL]\n",
    "\n",
    "fig = plt.figure(figsize=(7,5), facecolor='w')\n",
    "ax = fig.add_subplot(111)\n",
    "ax.plot(bindingEnergies, numberSites, linewidth=0, marker='s', markersize=8, color='red')\n",
    "ax.set_xlabel('TF-DNA binding energy (kT)', fontsize=fontsize)\n",
    "ax.set_ylabel('number of genomic sites', fontsize=fontsize)\n",
    "ax.set_yscale('log')\n",
    "ax.set_xlim(0, 40)\n",
    "ax.tick_params(axis='both', which='major', labelsize=fontsize_tick)"
   ]
  },
  {
   "cell_type": "markdown",
   "metadata": {
    "collapsed": true
   },
   "source": [
    "Though highly-specific (low-energy) sites do indeed exist, the sheer number of less-specific (intermediate- to high-energy) sites across the genome can, in principle, soak up a significant number of TFs. "
   ]
  }
 ],
 "metadata": {
  "anaconda-cloud": {},
  "kernelspec": {
   "display_name": "Python [Root]",
   "language": "python",
   "name": "Python [Root]"
  },
  "language_info": {
   "codemirror_mode": {
    "name": "ipython",
    "version": 3
   },
   "file_extension": ".py",
   "mimetype": "text/x-python",
   "name": "python",
   "nbconvert_exporter": "python",
   "pygments_lexer": "ipython3",
   "version": "3.5.2"
  }
 },
 "nbformat": 4,
 "nbformat_minor": 0
}
