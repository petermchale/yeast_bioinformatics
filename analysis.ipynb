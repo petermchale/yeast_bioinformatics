{
 "cells": [
  {
   "cell_type": "markdown",
   "metadata": {},
   "source": [
    "# Yeast bioinformatic analysis \n",
    "Written by [Peter McHale](http://ccbs-76.bio.uci.edu/~petermchale/). \n",
    "\n",
    "This Notebook lives at [Github](https://github.com/petermchale/yeast_bioinformatics). Follow [these instructions](http://jupyter.readthedocs.io/en/latest/install.html) to execute the Notebook using Python 3.x.  Otherwise, [view this Notebook](http://nbviewer.jupyter.org/github/petermchale/yeast_bioinformatics/blob/master/analysis.ipynb) in read-only mode using [Jupyter Notebook Viewer](http://nbviewer.jupyter.org/)."
   ]
  },
  {
   "cell_type": "markdown",
   "metadata": {},
   "source": [
    "## Research Question\n",
    "\n",
    "The eukaryotic genome is adorned by molecules called transcription factors (TFs). At any given time, some of these are regulating gene expression, e.g. by interacting with RNA polymerase, but others are not. **How can we distinguish the functional TF-DNA binding events from a potentially large background of non-functional binding events?**"
   ]
  },
  {
   "cell_type": "markdown",
   "metadata": {
    "collapsed": true
   },
   "source": [
    "## Quantifying TF-DNA binding\n",
    "\n",
    "To approach this question, we first need to quantify the strength with which TFs bind DNA. A TF binds DNA by making contact with a sequence of $L$ nucleotides \n",
    "\n",
    "\\begin{equation} \n",
    "\\vec{s} = \\langle s_1, s_2, \\ldots, s_L\\rangle,\n",
    "\\end{equation} \n",
    "\n",
    "where $s_i \\in \\{A,C,G,T\\}$. Denote by $E(\\vec{s})$ the binding energy of a given TF to a DNA sub-sequence $\\vec{s}$. \n",
    "With binding lengths of $L = 10-20$ nucleotides, there are too many possible $\\vec{s}$ to measure $E(\\vec{s})$ exhaustively.\n",
    "Fortunately, the contribution of each nucleotide to the binding energy of the sub-sequence is approximately independent and additive: \n",
    "\n",
    "\\begin{equation} \n",
    "E(\\vec{s}) = \\sum_{i=1}^L \\epsilon_i(s_i),\n",
    "\\end{equation}\n",
    "\n",
    "reducing the impractical problem of determining the large number of values of $E(\\vec{s})$ to the practical problem of the determining the \n",
    " $L\\times 4$ energy matrix, $\\epsilon_i(s)$. This matrix has been determined for a TF called Gal4 using *in vitro* measurements of the equilibrium binding constants \n",
    " \n",
    "\\begin{equation} \n",
    "K(\\vec{s}) \\propto e^{-\\beta E(\\vec{s})} \n",
    "\\end{equation} \n",
    "\n",
    "for all sequences $\\vec{s}$ that differ in just one nucleotide from a given sequence. I manually fetched these data from the literature [[Liang et al 1996](https://www.ncbi.nlm.nih.gov/pubmed/8668194)], and stored them in the file `data/Gal4_affinity.in`. "
   ]
  },
  {
   "cell_type": "code",
   "execution_count": 1,
   "metadata": {
    "collapsed": true
   },
   "outputs": [],
   "source": [
    "import sys, os \n",
    "sys.path.append(os.getcwd() + '/source')\n",
    "\n",
    "from extract import createEnergyMatrix\n",
    "energy_matrix = createEnergyMatrix('data/Gal4_affinity.in')"
   ]
  },
  {
   "cell_type": "markdown",
   "metadata": {},
   "source": [
    "Here, I have stored the energy matrix as a list of dictionaries for computational reasons, but we can use `pandas` to visualize it:"
   ]
  },
  {
   "cell_type": "code",
   "execution_count": 2,
   "metadata": {
    "collapsed": false,
    "scrolled": false
   },
   "outputs": [
    {
     "data": {
      "text/html": [
       "<div>\n",
       "<table border=\"1\" class=\"dataframe\">\n",
       "  <thead>\n",
       "    <tr style=\"text-align: right;\">\n",
       "      <th></th>\n",
       "      <th>A</th>\n",
       "      <th>C</th>\n",
       "      <th>G</th>\n",
       "      <th>T</th>\n",
       "    </tr>\n",
       "  </thead>\n",
       "  <tbody>\n",
       "    <tr>\n",
       "      <th>0</th>\n",
       "      <td>2.426816</td>\n",
       "      <td>0.000000</td>\n",
       "      <td>3.132951</td>\n",
       "      <td>2.957252</td>\n",
       "    </tr>\n",
       "    <tr>\n",
       "      <th>1</th>\n",
       "      <td>3.800451</td>\n",
       "      <td>3.800451</td>\n",
       "      <td>0.000000</td>\n",
       "      <td>3.800451</td>\n",
       "    </tr>\n",
       "    <tr>\n",
       "      <th>2</th>\n",
       "      <td>3.800451</td>\n",
       "      <td>3.800451</td>\n",
       "      <td>0.000000</td>\n",
       "      <td>3.800451</td>\n",
       "    </tr>\n",
       "    <tr>\n",
       "      <th>3</th>\n",
       "      <td>0.000000</td>\n",
       "      <td>0.804719</td>\n",
       "      <td>0.601986</td>\n",
       "      <td>0.885978</td>\n",
       "    </tr>\n",
       "    <tr>\n",
       "      <th>4</th>\n",
       "      <td>0.143841</td>\n",
       "      <td>0.000000</td>\n",
       "      <td>0.693147</td>\n",
       "      <td>0.000000</td>\n",
       "    </tr>\n",
       "    <tr>\n",
       "      <th>5</th>\n",
       "      <td>0.693147</td>\n",
       "      <td>0.143841</td>\n",
       "      <td>0.693147</td>\n",
       "      <td>0.000000</td>\n",
       "    </tr>\n",
       "    <tr>\n",
       "      <th>6</th>\n",
       "      <td>0.000000</td>\n",
       "      <td>1.497866</td>\n",
       "      <td>1.103637</td>\n",
       "      <td>0.000000</td>\n",
       "    </tr>\n",
       "    <tr>\n",
       "      <th>7</th>\n",
       "      <td>0.554331</td>\n",
       "      <td>0.000000</td>\n",
       "      <td>1.609438</td>\n",
       "      <td>0.693147</td>\n",
       "    </tr>\n",
       "    <tr>\n",
       "      <th>8</th>\n",
       "      <td>0.000000</td>\n",
       "      <td>2.120264</td>\n",
       "      <td>2.120264</td>\n",
       "      <td>0.000000</td>\n",
       "    </tr>\n",
       "    <tr>\n",
       "      <th>9</th>\n",
       "      <td>0.693147</td>\n",
       "      <td>1.609438</td>\n",
       "      <td>0.000000</td>\n",
       "      <td>0.554331</td>\n",
       "    </tr>\n",
       "    <tr>\n",
       "      <th>10</th>\n",
       "      <td>0.000000</td>\n",
       "      <td>1.103637</td>\n",
       "      <td>1.497866</td>\n",
       "      <td>0.000000</td>\n",
       "    </tr>\n",
       "    <tr>\n",
       "      <th>11</th>\n",
       "      <td>0.000000</td>\n",
       "      <td>0.693147</td>\n",
       "      <td>0.143841</td>\n",
       "      <td>0.693147</td>\n",
       "    </tr>\n",
       "    <tr>\n",
       "      <th>12</th>\n",
       "      <td>0.000000</td>\n",
       "      <td>0.693147</td>\n",
       "      <td>0.000000</td>\n",
       "      <td>0.143841</td>\n",
       "    </tr>\n",
       "    <tr>\n",
       "      <th>13</th>\n",
       "      <td>0.885978</td>\n",
       "      <td>0.601986</td>\n",
       "      <td>0.804719</td>\n",
       "      <td>0.000000</td>\n",
       "    </tr>\n",
       "    <tr>\n",
       "      <th>14</th>\n",
       "      <td>3.800451</td>\n",
       "      <td>0.000000</td>\n",
       "      <td>3.800451</td>\n",
       "      <td>3.800451</td>\n",
       "    </tr>\n",
       "    <tr>\n",
       "      <th>15</th>\n",
       "      <td>3.800451</td>\n",
       "      <td>0.000000</td>\n",
       "      <td>3.800451</td>\n",
       "      <td>3.800451</td>\n",
       "    </tr>\n",
       "    <tr>\n",
       "      <th>16</th>\n",
       "      <td>2.957252</td>\n",
       "      <td>3.132951</td>\n",
       "      <td>0.000000</td>\n",
       "      <td>2.426816</td>\n",
       "    </tr>\n",
       "  </tbody>\n",
       "</table>\n",
       "</div>"
      ],
      "text/plain": [
       "           A         C         G         T\n",
       "0   2.426816  0.000000  3.132951  2.957252\n",
       "1   3.800451  3.800451  0.000000  3.800451\n",
       "2   3.800451  3.800451  0.000000  3.800451\n",
       "3   0.000000  0.804719  0.601986  0.885978\n",
       "4   0.143841  0.000000  0.693147  0.000000\n",
       "5   0.693147  0.143841  0.693147  0.000000\n",
       "6   0.000000  1.497866  1.103637  0.000000\n",
       "7   0.554331  0.000000  1.609438  0.693147\n",
       "8   0.000000  2.120264  2.120264  0.000000\n",
       "9   0.693147  1.609438  0.000000  0.554331\n",
       "10  0.000000  1.103637  1.497866  0.000000\n",
       "11  0.000000  0.693147  0.143841  0.693147\n",
       "12  0.000000  0.693147  0.000000  0.143841\n",
       "13  0.885978  0.601986  0.804719  0.000000\n",
       "14  3.800451  0.000000  3.800451  3.800451\n",
       "15  3.800451  0.000000  3.800451  3.800451\n",
       "16  2.957252  3.132951  0.000000  2.426816"
      ]
     },
     "execution_count": 2,
     "metadata": {},
     "output_type": "execute_result"
    }
   ],
   "source": [
    "import pandas as pd \n",
    "df = pd.DataFrame(energy_matrix)\n",
    "df"
   ]
  },
  {
   "cell_type": "markdown",
   "metadata": {},
   "source": [
    "In the above data structure:\n",
    "* row labels are positions within a binding site\n",
    "* column labels are the identities of nucleotides at those positions\n",
    "* matrix elements are TF-DNA binding energies\n",
    "\n",
    "So, for example, a DNA sequence that binds optimally to Gal4 can be extracted by listing the nucleotides with the lowest energy at each position:\n",
    "\n"
   ]
  },
  {
   "cell_type": "code",
   "execution_count": 3,
   "metadata": {
    "collapsed": false
   },
   "outputs": [
    {
     "name": "stdout",
     "output_type": "stream",
     "text": [
      "0     C\n",
      "1     G\n",
      "2     G\n",
      "3     A\n",
      "4     C\n",
      "5     T\n",
      "6     A\n",
      "7     C\n",
      "8     A\n",
      "9     G\n",
      "10    A\n",
      "11    A\n",
      "12    A\n",
      "13    T\n",
      "14    C\n",
      "15    C\n",
      "16    G\n",
      "dtype: object\n"
     ]
    }
   ],
   "source": [
    "print(df.idxmin(axis=1))"
   ]
  },
  {
   "cell_type": "markdown",
   "metadata": {},
   "source": [
    "## Extracting the yeast DNA sequence\n",
    "\n",
    "I manually downloaded, from the [Saccharomyces Genome Database](http://www.yeastgenome.org/), the DNA sequence of the third chromosome of yeast, stored in [FASTA format](https://en.wikipedia.org/wiki/FASTA_format), and read it into a  string:"
   ]
  },
  {
   "cell_type": "code",
   "execution_count": 4,
   "metadata": {
    "collapsed": false
   },
   "outputs": [
    {
     "name": "stdout",
     "output_type": "stream",
     "text": [
      "\n",
      "Here is the beginning of the DNA sequence of the chromosome:\n",
      "\n",
      "CCCACACACCACACCCACACCACACCCACACACCACACACACCACACCCACACACCCACACCACACCACACCCACACCACACCCACACACCCACACCCAC\n",
      "\n",
      "There are  316617 nucleotides in this chromosome\n"
     ]
    }
   ],
   "source": [
    "from extract import getFasta\n",
    "with open('data/chr03.fsa') as f:\n",
    "    header, chromosome = getFasta(f)\n",
    "print('\\nHere is the beginning of the DNA sequence of the chromosome:\\n')\n",
    "print(chromosome[:100])\n",
    "print('\\nThere are ', len(chromosome), 'nucleotides in this chromosome')"
   ]
  },
  {
   "cell_type": "markdown",
   "metadata": {},
   "source": [
    "## Distribution of TF-DNA binding energies genome-wide\n",
    "\n",
    "With the energy matrix and chromosome sequence in hand, I next computed the energy with which Gal4 binds every possible sub-sequence of length $L = 17$ on the chromosome:"
   ]
  },
  {
   "cell_type": "code",
   "execution_count": 5,
   "metadata": {
    "collapsed": false
   },
   "outputs": [
    {
     "data": {
      "text/html": [
       "<div>\n",
       "<table border=\"1\" class=\"dataframe\">\n",
       "  <thead>\n",
       "    <tr style=\"text-align: right;\">\n",
       "      <th></th>\n",
       "      <th>TF-DNA binding energy</th>\n",
       "      <th>binding-site start position</th>\n",
       "      <th>binding-site end position</th>\n",
       "    </tr>\n",
       "  </thead>\n",
       "  <tbody>\n",
       "    <tr>\n",
       "      <th>0</th>\n",
       "      <td>18.328334</td>\n",
       "      <td>0</td>\n",
       "      <td>17</td>\n",
       "    </tr>\n",
       "    <tr>\n",
       "      <th>1</th>\n",
       "      <td>20.838887</td>\n",
       "      <td>1</td>\n",
       "      <td>18</td>\n",
       "    </tr>\n",
       "    <tr>\n",
       "      <th>2</th>\n",
       "      <td>20.147337</td>\n",
       "      <td>2</td>\n",
       "      <td>19</td>\n",
       "    </tr>\n",
       "    <tr>\n",
       "      <th>3</th>\n",
       "      <td>26.295040</td>\n",
       "      <td>3</td>\n",
       "      <td>20</td>\n",
       "    </tr>\n",
       "    <tr>\n",
       "      <th>4</th>\n",
       "      <td>18.686354</td>\n",
       "      <td>4</td>\n",
       "      <td>21</td>\n",
       "    </tr>\n",
       "  </tbody>\n",
       "</table>\n",
       "</div>"
      ],
      "text/plain": [
       "   TF-DNA binding energy  binding-site start position  \\\n",
       "0              18.328334                            0   \n",
       "1              20.838887                            1   \n",
       "2              20.147337                            2   \n",
       "3              26.295040                            3   \n",
       "4              18.686354                            4   \n",
       "\n",
       "   binding-site end position  \n",
       "0                         17  \n",
       "1                         18  \n",
       "2                         19  \n",
       "3                         20  \n",
       "4                         21  "
      ]
     },
     "execution_count": 5,
     "metadata": {},
     "output_type": "execute_result"
    }
   ],
   "source": [
    "from auxFunctions import calcEnergyListWithMatrix\n",
    "TFBS = calcEnergyListWithMatrix(chromosome, energy_matrix)\n",
    "TFBS.head()"
   ]
  },
  {
   "cell_type": "markdown",
   "metadata": {},
   "source": [
    "Here is how those TF-DNA binding energies are distributed throughout the genome:"
   ]
  },
  {
   "cell_type": "code",
   "execution_count": 6,
   "metadata": {
    "collapsed": false,
    "scrolled": false
   },
   "outputs": [
    {
     "data": {
      "image/png": "[encoded data removed]",
      "text/plain": [
       "<matplotlib.figure.Figure at 0x1124df6d8>"
      ]
     },
     "metadata": {},
     "output_type": "display_data"
    }
   ],
   "source": [
    "import numpy as np \n",
    "from matplotlib import pyplot as plt\n",
    "from auxFunctions import binList\n",
    "%matplotlib inline\n",
    "\n",
    "energyBins, numberSites = binList(TFBS['TF-DNA binding energy'], xMin=-5.0, xMax=50, binWidth=0.25)\n",
    "\n",
    "fontsize = 16\n",
    "fontsize_tick = 14\n",
    "fig = plt.figure(figsize=(7,5), facecolor='w')\n",
    "ax = fig.add_subplot(111)\n",
    "ax.plot(energyBins, numberSites, linewidth=0, marker='s', markersize=8, color='red')\n",
    "ax.set_xlabel('TF-DNA binding energy (kT)', fontsize=fontsize)\n",
    "ax.set_ylabel('number of genomic sites', fontsize=fontsize)\n",
    "ax.set_yscale('log')\n",
    "ax.set_xlim(0, 40)\n",
    "ax.tick_params(axis='both', which='major', labelsize=fontsize_tick)"
   ]
  },
  {
   "cell_type": "markdown",
   "metadata": {
    "collapsed": true
   },
   "source": [
    "Putting the y-axis on a log scale reveals that the distribution is approximately parabolic, implying that on a linear scale the distribution is approximately Gaussian. This is expected from the fact that each TF-DNA binding energy is a sum of single-nucleotide energies that are, to a good approximate, independently and identically distributed (Central Limit Theorem). \n",
    "\n",
    "Notice also that, though highly-specific (low-energy) sites do indeed exist, the sheer number of less-specific (intermediate- to high-energy) sites across the genome can, in principle, soak up a significant number of TFs. "
   ]
  },
  {
   "cell_type": "markdown",
   "metadata": {},
   "source": [
    "## Extracting yeast promoters\n",
    "\n",
    "To identify where regulatory regions of genes are likely to be, I downloaded the following [General Feature Format](https://en.wikipedia.org/wiki/General_feature_format) file from the [Saccharomyces Genome Database](http://www.yeastgenome.org/):"
   ]
  },
  {
   "cell_type": "code",
   "execution_count": 7,
   "metadata": {
    "collapsed": false
   },
   "outputs": [
    {
     "name": "stdout",
     "output_type": "stream",
     "text": [
      "##gff-version   3\r\n",
      "#date Tue May  8 19:35:07 2007\r\n",
      "#\r\n",
      "# Saccharomyces cerevisiae S288C genome\r\n",
      "#\r\n",
      "# Features from the 16 nuclear chromosomes labeled chrI to chrXVI,\r\n",
      "# plus the mitochondrial genome labeled chrMito\r\n",
      "#\r\n",
      "# Created by Saccharomyces Genome Database (http://www.yeastgenome.org/)\r\n",
      "#\r\n",
      "# Weekly updates of this file are available via Anonymous FTP from:\r\n",
      "# ftp://ftp.yeastgenome.org/yeast/data_download/chromosomal_feature/saccharomyces_cerevisiae.gff\r\n",
      "#\r\n",
      "# Please send comments and suggestions to yeast-curator@yeastgenome.org\r\n",
      "#\r\n",
      "# SGD is funded as a National Human Genome Research Institute Biomedical Informatics Resource from\r\n",
      "# the U. S. National Institutes of Health to Stanford University.  The staff of SGD is listed at:\r\n",
      "# http://www.yeastgenome.org/SGD-staff.html\r\n",
      "#\r\n",
      "chrIII\tSGD\trepeat_family\t1\t360\t.\t-\t.\tID=TEL03L-TR;Name=TEL03L-TR;Note=Terminal%20stretch%20of%20telomeric%20repeats%20on%20the%20left%20arm%20of%20Chromosome%20III;dbxref=SGD:S000028872\r\n"
     ]
    }
   ],
   "source": [
    "!head -20 data/saccharomyces_cerevisiae_chr03.gff"
   ]
  },
  {
   "cell_type": "markdown",
   "metadata": {},
   "source": [
    "This file contains all genomic features on the third chromosome of this species. I located the coding-sequence features, and used them to extract regions of DNA that lie upstream of each transcription start site. "
   ]
  },
  {
   "cell_type": "code",
   "execution_count": 8,
   "metadata": {
    "collapsed": false
   },
   "outputs": [
    {
     "data": {
      "text/html": [
       "<div>\n",
       "<table border=\"1\" class=\"dataframe\">\n",
       "  <thead>\n",
       "    <tr style=\"text-align: right;\">\n",
       "      <th></th>\n",
       "      <th>standard gene name</th>\n",
       "      <th>systematic gene name</th>\n",
       "      <th>classification</th>\n",
       "      <th>promoter start position</th>\n",
       "      <th>promoter end position</th>\n",
       "      <th>promoter sequence</th>\n",
       "    </tr>\n",
       "  </thead>\n",
       "  <tbody>\n",
       "    <tr>\n",
       "      <th>0</th>\n",
       "      <td>.</td>\n",
       "      <td>YCL076W</td>\n",
       "      <td>Dubious</td>\n",
       "      <td>1292</td>\n",
       "      <td>1392</td>\n",
       "      <td>TAGTACTTAAGAAACTACAGTTTCTATGTACGAAAGCAGTAACTAT...</td>\n",
       "    </tr>\n",
       "    <tr>\n",
       "      <th>1</th>\n",
       "      <td>.</td>\n",
       "      <td>YCL075W</td>\n",
       "      <td>.</td>\n",
       "      <td>2026</td>\n",
       "      <td>2126</td>\n",
       "      <td>ATTCTGTAAATTAAATGCGTCATCGAATTCATCATCTTCGGTCTCA...</td>\n",
       "    </tr>\n",
       "    <tr>\n",
       "      <th>2</th>\n",
       "      <td>.</td>\n",
       "      <td>YCL074W</td>\n",
       "      <td>.</td>\n",
       "      <td>2724</td>\n",
       "      <td>2824</td>\n",
       "      <td>GGTATTGACTATCAGGAAACCTTTGCACCAGTCATTCGATATGACT...</td>\n",
       "    </tr>\n",
       "    <tr>\n",
       "      <th>3</th>\n",
       "      <td>.</td>\n",
       "      <td>YCL073C</td>\n",
       "      <td>Uncharacterized</td>\n",
       "      <td>8326</td>\n",
       "      <td>8426</td>\n",
       "      <td>CCGATAATTTATTTACTTGATTATTCCTTTTTTTTTTTTTTCTCTT...</td>\n",
       "    </tr>\n",
       "    <tr>\n",
       "      <th>4</th>\n",
       "      <td>VBA3</td>\n",
       "      <td>YCL069W</td>\n",
       "      <td>Verified</td>\n",
       "      <td>9606</td>\n",
       "      <td>9706</td>\n",
       "      <td>TGGGGAAGATTCGCATCTATCATAGGTTTCCAGCATAGTCTCATTT...</td>\n",
       "    </tr>\n",
       "  </tbody>\n",
       "</table>\n",
       "</div>"
      ],
      "text/plain": [
       "  standard gene name systematic gene name   classification  \\\n",
       "0                  .              YCL076W          Dubious   \n",
       "1                  .              YCL075W                .   \n",
       "2                  .              YCL074W                .   \n",
       "3                  .              YCL073C  Uncharacterized   \n",
       "4               VBA3              YCL069W         Verified   \n",
       "\n",
       "   promoter start position  promoter end position  \\\n",
       "0                     1292                   1392   \n",
       "1                     2026                   2126   \n",
       "2                     2724                   2824   \n",
       "3                     8326                   8426   \n",
       "4                     9606                   9706   \n",
       "\n",
       "                                   promoter sequence  \n",
       "0  TAGTACTTAAGAAACTACAGTTTCTATGTACGAAAGCAGTAACTAT...  \n",
       "1  ATTCTGTAAATTAAATGCGTCATCGAATTCATCATCTTCGGTCTCA...  \n",
       "2  GGTATTGACTATCAGGAAACCTTTGCACCAGTCATTCGATATGACT...  \n",
       "3  CCGATAATTTATTTACTTGATTATTCCTTTTTTTTTTTTTTCTCTT...  \n",
       "4  TGGGGAAGATTCGCATCTATCATAGGTTTCCAGCATAGTCTCATTT...  "
      ]
     },
     "execution_count": 8,
     "metadata": {},
     "output_type": "execute_result"
    }
   ],
   "source": [
    "def extractPromoters():\n",
    "    \"\"\" parse saccharomyces_cerevisiae_chr03.gff and extract promoters \"\"\"\n",
    "\n",
    "    promLength = 100\n",
    "\n",
    "    with open('data/saccharomyces_cerevisiae_chr03.gff') as fin:\n",
    "\n",
    "        # skip over header lines\n",
    "        line = fin.readline()\n",
    "        while line[0] == \"#\":\n",
    "            line = fin.readline()\n",
    "\n",
    "        features = []\n",
    "        while line:\n",
    "            seqid, source, feature_type, start, end, score, strand, phase, attributes = line.split()\n",
    "            if feature_type == 'CDS':\n",
    "                attributes = attributes.split(';')\n",
    "                initDict = [attribute.split('=') for attribute in attributes]\n",
    "                attributes = dict(initDict)\n",
    "                systematicGeneName = attributes['Parent']\n",
    "\n",
    "                if 'orf_classification' in attributes:\n",
    "                    classification = attributes['orf_classification']\n",
    "                else:\n",
    "                    classification = '.'\n",
    "                if 'gene' in attributes:\n",
    "                    standardGeneName = attributes['gene']\n",
    "                else:\n",
    "                    standardGeneName = '.'\n",
    "\n",
    "                # which DNA strand the gene is encoded on determines where the promoter is located\n",
    "                if strand == '+':\n",
    "                    promStart = int(start) - promLength\n",
    "                    promEnd = int(start)\n",
    "                elif strand == '-':\n",
    "                    promStart = int(end)\n",
    "                    promEnd = int(end) + promLength\n",
    "\n",
    "                promoter = chromosome[max(promStart, 0):promEnd]\n",
    "                features += [(standardGeneName, systematicGeneName, classification, promStart, promEnd, promoter)]\n",
    "            line = fin.readline()\n",
    "\n",
    "    return pd.DataFrame(data=features, columns=['standard gene name', 'systematic gene name', \n",
    "                                                'classification', 'promoter start position', \n",
    "                                                'promoter end position', \n",
    "                                                'promoter sequence'])\n",
    "\n",
    "promoters = extractPromoters()\n",
    "promoters.head()"
   ]
  },
  {
   "cell_type": "markdown",
   "metadata": {},
   "source": [
    "I have placed a `.` in a field to indicate **missing data**."
   ]
  },
  {
   "cell_type": "markdown",
   "metadata": {},
   "source": [
    "## Determining whether potential TF binding sites lie in promoters\n",
    "\n",
    "I next classified each $L$-subsequence (potential binding site) according to whether it lies in a promoter region or not, and added that information as two new columns in the appropriate `pandas` data frame:"
   ]
  },
  {
   "cell_type": "code",
   "execution_count": 9,
   "metadata": {
    "collapsed": false
   },
   "outputs": [
    {
     "data": {
      "text/html": [
       "<div>\n",
       "<table border=\"1\" class=\"dataframe\">\n",
       "  <thead>\n",
       "    <tr style=\"text-align: right;\">\n",
       "      <th></th>\n",
       "      <th>TF-DNA binding energy</th>\n",
       "      <th>binding-site start position</th>\n",
       "      <th>binding-site end position</th>\n",
       "      <th>promoter categorical variable</th>\n",
       "      <th>promoter</th>\n",
       "    </tr>\n",
       "  </thead>\n",
       "  <tbody>\n",
       "    <tr>\n",
       "      <th>1549</th>\n",
       "      <td>9.595544</td>\n",
       "      <td>1549</td>\n",
       "      <td>1566</td>\n",
       "      <td>0</td>\n",
       "      <td>.</td>\n",
       "    </tr>\n",
       "    <tr>\n",
       "      <th>2288</th>\n",
       "      <td>8.433015</td>\n",
       "      <td>2288</td>\n",
       "      <td>2305</td>\n",
       "      <td>0</td>\n",
       "      <td>.</td>\n",
       "    </tr>\n",
       "    <tr>\n",
       "      <th>2737</th>\n",
       "      <td>9.996220</td>\n",
       "      <td>2737</td>\n",
       "      <td>2754</td>\n",
       "      <td>1</td>\n",
       "      <td>YCL074W</td>\n",
       "    </tr>\n",
       "    <tr>\n",
       "      <th>2873</th>\n",
       "      <td>7.729358</td>\n",
       "      <td>2873</td>\n",
       "      <td>2890</td>\n",
       "      <td>0</td>\n",
       "      <td>.</td>\n",
       "    </tr>\n",
       "    <tr>\n",
       "      <th>3418</th>\n",
       "      <td>8.005181</td>\n",
       "      <td>3418</td>\n",
       "      <td>3435</td>\n",
       "      <td>0</td>\n",
       "      <td>.</td>\n",
       "    </tr>\n",
       "  </tbody>\n",
       "</table>\n",
       "</div>"
      ],
      "text/plain": [
       "      TF-DNA binding energy  binding-site start position  \\\n",
       "1549               9.595544                         1549   \n",
       "2288               8.433015                         2288   \n",
       "2737               9.996220                         2737   \n",
       "2873               7.729358                         2873   \n",
       "3418               8.005181                         3418   \n",
       "\n",
       "      binding-site end position  promoter categorical variable promoter  \n",
       "1549                       1566                              0        .  \n",
       "2288                       2305                              0        .  \n",
       "2737                       2754                              1  YCL074W  \n",
       "2873                       2890                              0        .  \n",
       "3418                       3435                              0        .  "
      ]
     },
     "execution_count": 9,
     "metadata": {},
     "output_type": "execute_result"
    }
   ],
   "source": [
    "import warnings\n",
    "warnings.filterwarnings('ignore')\n",
    "\n",
    "TFBS_high_affinity = TFBS[TFBS['TF-DNA binding energy'] < 10]\n",
    "\n",
    "TFBS_high_affinity_categorical_variable = [0]*len(TFBS_high_affinity)\n",
    "TFBS_high_affinity_promoter = ['.']*len(TFBS_high_affinity)\n",
    "count = -1\n",
    "for TFBS_index, TFBS_row in TFBS_high_affinity.iterrows():\n",
    "    count += 1\n",
    "    TFBS_start = TFBS_row['binding-site start position']\n",
    "    TFBS_end = TFBS_row['binding-site end position']\n",
    "    for promoter_index, promoter_row in promoters.iterrows():\n",
    "        promoter_start = promoter_row['promoter start position']\n",
    "        promoter_end = promoter_row['promoter end position']\n",
    "        if (promoter_start < TFBS_start) and (TFBS_end < promoter_end):\n",
    "            TFBS_high_affinity_categorical_variable[count] = 1\n",
    "            TFBS_high_affinity_promoter[count] = promoter_row['systematic gene name']\n",
    "            break\n",
    "TFBS_high_affinity['promoter categorical variable'] = TFBS_high_affinity_categorical_variable\n",
    "TFBS_high_affinity['promoter'] = TFBS_high_affinity_promoter\n",
    "TFBS_high_affinity.head()"
   ]
  },
  {
   "cell_type": "markdown",
   "metadata": {},
   "source": [
    "## Are promoters enriched for subsequences that bind TFs tightly? \n",
    "\n",
    "I used [scikit-learn](http://scikit-learn.org/stable/) to determine whether subsequences with greater affinity for the TF (i.e. lower energy) tend to be located in promoter regions more often than you'd expect by chance:"
   ]
  },
  {
   "cell_type": "code",
   "execution_count": 10,
   "metadata": {
    "collapsed": false
   },
   "outputs": [
    {
     "data": {
      "image/png": "[encoded data removed]",
      "text/plain": [
       "<matplotlib.figure.Figure at 0x113063b70>"
      ]
     },
     "metadata": {},
     "output_type": "display_data"
    }
   ],
   "source": [
    "energies = TFBS_high_affinity['TF-DNA binding energy']\n",
    "categories = TFBS_high_affinity['promoter categorical variable']\n",
    "\n",
    "# sample data\n",
    "fig = plt.figure(figsize=(9,6), facecolor='w')\n",
    "ax = fig.add_subplot(111)\n",
    "ax.plot(energies, categories, \n",
    "        linewidth=0, marker='o', markersize=8, color='red', label='sample data')\n",
    "ax.set_xlabel('TF-DNA binding energy (kT)', fontsize=fontsize)\n",
    "ax.set_ylabel('promoter categorical variable', fontsize=fontsize)\n",
    "ax.tick_params(axis='both', which='major', labelsize=fontsize_tick)\n",
    "ax.set_ylim(-0.1, 1.1)\n",
    "\n",
    "# logistic regression\n",
    "from sklearn.linear_model import LogisticRegression\n",
    "lr = LogisticRegression()\n",
    "energies_rs = energies.values.reshape((len(energies),1))\n",
    "lr.fit(energies_rs, categories)\n",
    "x = np.linspace(energies.min(),energies.max())\n",
    "x_rs = x.reshape((len(x), 1))\n",
    "probs = lr.predict_proba(x_rs)\n",
    "ax.plot(x, probs[:,1], linewidth=2, marker=None, color='black', \n",
    "        label='logistic probability of lying in promoter region')\n",
    "\n",
    "# probability that a randomly choosen site lies in a promoter \n",
    "number_promoters, number_cols = promoters.shape\n",
    "promoter_size = len(promoters['promoter sequence'][0])\n",
    "promoter_size_summed_over_chromosome = number_promoters*promoter_size\n",
    "chromosome_size = len(chromosome)\n",
    "null_probability_of_random_bp_lying_in_promoter = float(promoter_size_summed_over_chromosome)/float(chromosome_size)\n",
    "ax.plot([x.min(), x.max()], \n",
    "        [null_probability_of_random_bp_lying_in_promoter, \n",
    "         null_probability_of_random_bp_lying_in_promoter],\n",
    "        'r--',\n",
    "        linewidth=3, marker=None, color='black',\n",
    "        label='null probability of lying in promoter region')\n",
    "\n",
    "# label the plot\n",
    "legend = ax.legend(loc='center', fontsize=fontsize)"
   ]
  },
  {
   "cell_type": "markdown",
   "metadata": {},
   "source": [
    "## Actionable insight \n",
    "\n",
    "The data show that high-affinity subsequences are more likely to lie in promoter regions than expected by chance, suggesting that there has been evolutionary pressure to retain strong binding sites in promoters. **The actionable insight is therefore that searches for new *functional* TF binding sites should be focused on promoter regions.**"
   ]
  },
  {
   "cell_type": "code",
   "execution_count": null,
   "metadata": {
    "collapsed": true
   },
   "outputs": [],
   "source": []
  }
 ],
 "metadata": {
  "anaconda-cloud": {},
  "celltoolbar": "Raw Cell Format",
  "kernelspec": {
   "display_name": "Python [conda root]",
   "language": "python",
   "name": "conda-root-py"
  },
  "language_info": {
   "codemirror_mode": {
    "name": "ipython",
    "version": 3
   },
   "file_extension": ".py",
   "mimetype": "text/x-python",
   "name": "python",
   "nbconvert_exporter": "python",
   "pygments_lexer": "ipython3",
   "version": "3.5.2"
  }
 },
 "nbformat": 4,
 "nbformat_minor": 0
}
